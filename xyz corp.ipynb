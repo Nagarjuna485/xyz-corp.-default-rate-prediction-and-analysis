{
 "cells": [
  {
   "cell_type": "markdown",
   "metadata": {},
   "source": [
    "#  XYZ Corp. : Default Rate Prediction and Analysis"
   ]
  },
  {
   "cell_type": "markdown",
   "metadata": {},
   "source": [
    "As per the problem statement, the steps as follows :\n",
    "\n",
    "- Exploratory Data Analysis (EDA)\n",
    "  - Data Cleaning\n",
    "  - Variable Transformations\n",
    "\n",
    "- Feature engineering and Variable Selection\n",
    "- Model Building and Validation\n",
    "    - Preprocessing\n",
    "    - Model Building, testing and validation\n",
    "    - Model selection\n",
    "- Final results"
   ]
  },
  {
   "cell_type": "code",
   "execution_count": 1,
   "metadata": {},
   "outputs": [],
   "source": [
    "# imoport required package \n",
    "\n",
    "\n",
    "import numpy as np\n",
    "import pandas as pd\n",
    "import matplotlib.pyplot as plt\n",
    "import seaborn as sns\n",
    "%matplotlib inline\n",
    "\n",
    "from sklearn.model_selection import train_test_split\n",
    "from sklearn.linear_model import LogisticRegression \n",
    "from sklearn.metrics import accuracy_score,confusion_matrix, classification_report,precision_score,recall_score,f1_score\n",
    "from sklearn.metrics import roc_auc_score\n",
    "from sklearn.metrics import roc_curve\n",
    "from sklearn.model_selection import cross_val_score\n",
    "from sklearn.ensemble import RandomForestClassifier"
   ]
  },
  {
   "cell_type": "code",
   "execution_count": 2,
   "metadata": {},
   "outputs": [],
   "source": [
    "# read the dataset \n",
    "\n",
    "xyz_corp = pd.read_csv(\"E:\\DSP 17\\pratice paper\\XYZCorp_LendingData.txt\",sep = '\\t',parse_dates=['issue_d'], low_memory = False)"
   ]
  },
  {
   "cell_type": "code",
   "execution_count": 3,
   "metadata": {},
   "outputs": [
    {
     "data": {
      "text/html": [
       "<div>\n",
       "<style scoped>\n",
       "    .dataframe tbody tr th:only-of-type {\n",
       "        vertical-align: middle;\n",
       "    }\n",
       "\n",
       "    .dataframe tbody tr th {\n",
       "        vertical-align: top;\n",
       "    }\n",
       "\n",
       "    .dataframe thead th {\n",
       "        text-align: right;\n",
       "    }\n",
       "</style>\n",
       "<table border=\"1\" class=\"dataframe\">\n",
       "  <thead>\n",
       "    <tr style=\"text-align: right;\">\n",
       "      <th></th>\n",
       "      <th>id</th>\n",
       "      <th>member_id</th>\n",
       "      <th>loan_amnt</th>\n",
       "      <th>funded_amnt</th>\n",
       "      <th>funded_amnt_inv</th>\n",
       "      <th>term</th>\n",
       "      <th>int_rate</th>\n",
       "      <th>installment</th>\n",
       "      <th>grade</th>\n",
       "      <th>sub_grade</th>\n",
       "      <th>...</th>\n",
       "      <th>il_util</th>\n",
       "      <th>open_rv_12m</th>\n",
       "      <th>open_rv_24m</th>\n",
       "      <th>max_bal_bc</th>\n",
       "      <th>all_util</th>\n",
       "      <th>total_rev_hi_lim</th>\n",
       "      <th>inq_fi</th>\n",
       "      <th>total_cu_tl</th>\n",
       "      <th>inq_last_12m</th>\n",
       "      <th>default_ind</th>\n",
       "    </tr>\n",
       "  </thead>\n",
       "  <tbody>\n",
       "    <tr>\n",
       "      <td>0</td>\n",
       "      <td>1077501</td>\n",
       "      <td>1296599</td>\n",
       "      <td>5000.0</td>\n",
       "      <td>5000.0</td>\n",
       "      <td>4975.0</td>\n",
       "      <td>36 months</td>\n",
       "      <td>10.65</td>\n",
       "      <td>162.87</td>\n",
       "      <td>B</td>\n",
       "      <td>B2</td>\n",
       "      <td>...</td>\n",
       "      <td>NaN</td>\n",
       "      <td>NaN</td>\n",
       "      <td>NaN</td>\n",
       "      <td>NaN</td>\n",
       "      <td>NaN</td>\n",
       "      <td>NaN</td>\n",
       "      <td>NaN</td>\n",
       "      <td>NaN</td>\n",
       "      <td>NaN</td>\n",
       "      <td>0</td>\n",
       "    </tr>\n",
       "    <tr>\n",
       "      <td>1</td>\n",
       "      <td>1077430</td>\n",
       "      <td>1314167</td>\n",
       "      <td>2500.0</td>\n",
       "      <td>2500.0</td>\n",
       "      <td>2500.0</td>\n",
       "      <td>60 months</td>\n",
       "      <td>15.27</td>\n",
       "      <td>59.83</td>\n",
       "      <td>C</td>\n",
       "      <td>C4</td>\n",
       "      <td>...</td>\n",
       "      <td>NaN</td>\n",
       "      <td>NaN</td>\n",
       "      <td>NaN</td>\n",
       "      <td>NaN</td>\n",
       "      <td>NaN</td>\n",
       "      <td>NaN</td>\n",
       "      <td>NaN</td>\n",
       "      <td>NaN</td>\n",
       "      <td>NaN</td>\n",
       "      <td>1</td>\n",
       "    </tr>\n",
       "    <tr>\n",
       "      <td>2</td>\n",
       "      <td>1077175</td>\n",
       "      <td>1313524</td>\n",
       "      <td>2400.0</td>\n",
       "      <td>2400.0</td>\n",
       "      <td>2400.0</td>\n",
       "      <td>36 months</td>\n",
       "      <td>15.96</td>\n",
       "      <td>84.33</td>\n",
       "      <td>C</td>\n",
       "      <td>C5</td>\n",
       "      <td>...</td>\n",
       "      <td>NaN</td>\n",
       "      <td>NaN</td>\n",
       "      <td>NaN</td>\n",
       "      <td>NaN</td>\n",
       "      <td>NaN</td>\n",
       "      <td>NaN</td>\n",
       "      <td>NaN</td>\n",
       "      <td>NaN</td>\n",
       "      <td>NaN</td>\n",
       "      <td>0</td>\n",
       "    </tr>\n",
       "    <tr>\n",
       "      <td>3</td>\n",
       "      <td>1076863</td>\n",
       "      <td>1277178</td>\n",
       "      <td>10000.0</td>\n",
       "      <td>10000.0</td>\n",
       "      <td>10000.0</td>\n",
       "      <td>36 months</td>\n",
       "      <td>13.49</td>\n",
       "      <td>339.31</td>\n",
       "      <td>C</td>\n",
       "      <td>C1</td>\n",
       "      <td>...</td>\n",
       "      <td>NaN</td>\n",
       "      <td>NaN</td>\n",
       "      <td>NaN</td>\n",
       "      <td>NaN</td>\n",
       "      <td>NaN</td>\n",
       "      <td>NaN</td>\n",
       "      <td>NaN</td>\n",
       "      <td>NaN</td>\n",
       "      <td>NaN</td>\n",
       "      <td>0</td>\n",
       "    </tr>\n",
       "    <tr>\n",
       "      <td>4</td>\n",
       "      <td>1075358</td>\n",
       "      <td>1311748</td>\n",
       "      <td>3000.0</td>\n",
       "      <td>3000.0</td>\n",
       "      <td>3000.0</td>\n",
       "      <td>60 months</td>\n",
       "      <td>12.69</td>\n",
       "      <td>67.79</td>\n",
       "      <td>B</td>\n",
       "      <td>B5</td>\n",
       "      <td>...</td>\n",
       "      <td>NaN</td>\n",
       "      <td>NaN</td>\n",
       "      <td>NaN</td>\n",
       "      <td>NaN</td>\n",
       "      <td>NaN</td>\n",
       "      <td>NaN</td>\n",
       "      <td>NaN</td>\n",
       "      <td>NaN</td>\n",
       "      <td>NaN</td>\n",
       "      <td>0</td>\n",
       "    </tr>\n",
       "  </tbody>\n",
       "</table>\n",
       "<p>5 rows × 73 columns</p>\n",
       "</div>"
      ],
      "text/plain": [
       "        id  member_id  loan_amnt  funded_amnt  funded_amnt_inv        term  \\\n",
       "0  1077501    1296599     5000.0       5000.0           4975.0   36 months   \n",
       "1  1077430    1314167     2500.0       2500.0           2500.0   60 months   \n",
       "2  1077175    1313524     2400.0       2400.0           2400.0   36 months   \n",
       "3  1076863    1277178    10000.0      10000.0          10000.0   36 months   \n",
       "4  1075358    1311748     3000.0       3000.0           3000.0   60 months   \n",
       "\n",
       "   int_rate  installment grade sub_grade  ... il_util open_rv_12m open_rv_24m  \\\n",
       "0     10.65       162.87     B        B2  ...     NaN         NaN         NaN   \n",
       "1     15.27        59.83     C        C4  ...     NaN         NaN         NaN   \n",
       "2     15.96        84.33     C        C5  ...     NaN         NaN         NaN   \n",
       "3     13.49       339.31     C        C1  ...     NaN         NaN         NaN   \n",
       "4     12.69        67.79     B        B5  ...     NaN         NaN         NaN   \n",
       "\n",
       "   max_bal_bc all_util total_rev_hi_lim inq_fi total_cu_tl inq_last_12m  \\\n",
       "0         NaN      NaN              NaN    NaN         NaN          NaN   \n",
       "1         NaN      NaN              NaN    NaN         NaN          NaN   \n",
       "2         NaN      NaN              NaN    NaN         NaN          NaN   \n",
       "3         NaN      NaN              NaN    NaN         NaN          NaN   \n",
       "4         NaN      NaN              NaN    NaN         NaN          NaN   \n",
       "\n",
       "  default_ind  \n",
       "0           0  \n",
       "1           1  \n",
       "2           0  \n",
       "3           0  \n",
       "4           0  \n",
       "\n",
       "[5 rows x 73 columns]"
      ]
     },
     "execution_count": 3,
     "metadata": {},
     "output_type": "execute_result"
    }
   ],
   "source": [
    "# display the top 5 row of the dataset\n",
    "\n",
    "xyz_corp.head()"
   ]
  },
  {
   "cell_type": "code",
   "execution_count": 4,
   "metadata": {},
   "outputs": [
    {
     "data": {
      "text/html": [
       "<div>\n",
       "<style scoped>\n",
       "    .dataframe tbody tr th:only-of-type {\n",
       "        vertical-align: middle;\n",
       "    }\n",
       "\n",
       "    .dataframe tbody tr th {\n",
       "        vertical-align: top;\n",
       "    }\n",
       "\n",
       "    .dataframe thead th {\n",
       "        text-align: right;\n",
       "    }\n",
       "</style>\n",
       "<table border=\"1\" class=\"dataframe\">\n",
       "  <thead>\n",
       "    <tr style=\"text-align: right;\">\n",
       "      <th></th>\n",
       "      <th>id</th>\n",
       "      <th>member_id</th>\n",
       "      <th>loan_amnt</th>\n",
       "      <th>funded_amnt</th>\n",
       "      <th>funded_amnt_inv</th>\n",
       "      <th>term</th>\n",
       "      <th>int_rate</th>\n",
       "      <th>installment</th>\n",
       "      <th>grade</th>\n",
       "      <th>sub_grade</th>\n",
       "      <th>...</th>\n",
       "      <th>il_util</th>\n",
       "      <th>open_rv_12m</th>\n",
       "      <th>open_rv_24m</th>\n",
       "      <th>max_bal_bc</th>\n",
       "      <th>all_util</th>\n",
       "      <th>total_rev_hi_lim</th>\n",
       "      <th>inq_fi</th>\n",
       "      <th>total_cu_tl</th>\n",
       "      <th>inq_last_12m</th>\n",
       "      <th>default_ind</th>\n",
       "    </tr>\n",
       "  </thead>\n",
       "  <tbody>\n",
       "    <tr>\n",
       "      <td>855964</td>\n",
       "      <td>36371250</td>\n",
       "      <td>39102635</td>\n",
       "      <td>10000.0</td>\n",
       "      <td>10000.0</td>\n",
       "      <td>10000.0</td>\n",
       "      <td>36 months</td>\n",
       "      <td>11.99</td>\n",
       "      <td>332.10</td>\n",
       "      <td>B</td>\n",
       "      <td>B5</td>\n",
       "      <td>...</td>\n",
       "      <td>NaN</td>\n",
       "      <td>NaN</td>\n",
       "      <td>NaN</td>\n",
       "      <td>NaN</td>\n",
       "      <td>NaN</td>\n",
       "      <td>17100.0</td>\n",
       "      <td>NaN</td>\n",
       "      <td>NaN</td>\n",
       "      <td>NaN</td>\n",
       "      <td>0</td>\n",
       "    </tr>\n",
       "    <tr>\n",
       "      <td>855965</td>\n",
       "      <td>36441262</td>\n",
       "      <td>39152692</td>\n",
       "      <td>24000.0</td>\n",
       "      <td>24000.0</td>\n",
       "      <td>24000.0</td>\n",
       "      <td>36 months</td>\n",
       "      <td>11.99</td>\n",
       "      <td>797.03</td>\n",
       "      <td>B</td>\n",
       "      <td>B5</td>\n",
       "      <td>...</td>\n",
       "      <td>NaN</td>\n",
       "      <td>NaN</td>\n",
       "      <td>NaN</td>\n",
       "      <td>NaN</td>\n",
       "      <td>NaN</td>\n",
       "      <td>10200.0</td>\n",
       "      <td>NaN</td>\n",
       "      <td>NaN</td>\n",
       "      <td>NaN</td>\n",
       "      <td>0</td>\n",
       "    </tr>\n",
       "    <tr>\n",
       "      <td>855966</td>\n",
       "      <td>36271333</td>\n",
       "      <td>38982739</td>\n",
       "      <td>13000.0</td>\n",
       "      <td>13000.0</td>\n",
       "      <td>13000.0</td>\n",
       "      <td>60 months</td>\n",
       "      <td>15.99</td>\n",
       "      <td>316.07</td>\n",
       "      <td>D</td>\n",
       "      <td>D2</td>\n",
       "      <td>...</td>\n",
       "      <td>NaN</td>\n",
       "      <td>NaN</td>\n",
       "      <td>NaN</td>\n",
       "      <td>NaN</td>\n",
       "      <td>NaN</td>\n",
       "      <td>18000.0</td>\n",
       "      <td>NaN</td>\n",
       "      <td>NaN</td>\n",
       "      <td>NaN</td>\n",
       "      <td>0</td>\n",
       "    </tr>\n",
       "    <tr>\n",
       "      <td>855967</td>\n",
       "      <td>36490806</td>\n",
       "      <td>39222577</td>\n",
       "      <td>12000.0</td>\n",
       "      <td>12000.0</td>\n",
       "      <td>12000.0</td>\n",
       "      <td>60 months</td>\n",
       "      <td>19.99</td>\n",
       "      <td>317.86</td>\n",
       "      <td>E</td>\n",
       "      <td>E3</td>\n",
       "      <td>...</td>\n",
       "      <td>NaN</td>\n",
       "      <td>NaN</td>\n",
       "      <td>NaN</td>\n",
       "      <td>NaN</td>\n",
       "      <td>NaN</td>\n",
       "      <td>27000.0</td>\n",
       "      <td>NaN</td>\n",
       "      <td>NaN</td>\n",
       "      <td>NaN</td>\n",
       "      <td>0</td>\n",
       "    </tr>\n",
       "    <tr>\n",
       "      <td>855968</td>\n",
       "      <td>36271262</td>\n",
       "      <td>38982659</td>\n",
       "      <td>20000.0</td>\n",
       "      <td>20000.0</td>\n",
       "      <td>20000.0</td>\n",
       "      <td>36 months</td>\n",
       "      <td>11.99</td>\n",
       "      <td>664.20</td>\n",
       "      <td>B</td>\n",
       "      <td>B5</td>\n",
       "      <td>...</td>\n",
       "      <td>NaN</td>\n",
       "      <td>NaN</td>\n",
       "      <td>NaN</td>\n",
       "      <td>NaN</td>\n",
       "      <td>NaN</td>\n",
       "      <td>41700.0</td>\n",
       "      <td>NaN</td>\n",
       "      <td>NaN</td>\n",
       "      <td>NaN</td>\n",
       "      <td>0</td>\n",
       "    </tr>\n",
       "  </tbody>\n",
       "</table>\n",
       "<p>5 rows × 73 columns</p>\n",
       "</div>"
      ],
      "text/plain": [
       "              id  member_id  loan_amnt  funded_amnt  funded_amnt_inv  \\\n",
       "855964  36371250   39102635    10000.0      10000.0          10000.0   \n",
       "855965  36441262   39152692    24000.0      24000.0          24000.0   \n",
       "855966  36271333   38982739    13000.0      13000.0          13000.0   \n",
       "855967  36490806   39222577    12000.0      12000.0          12000.0   \n",
       "855968  36271262   38982659    20000.0      20000.0          20000.0   \n",
       "\n",
       "              term  int_rate  installment grade sub_grade  ... il_util  \\\n",
       "855964   36 months     11.99       332.10     B        B5  ...     NaN   \n",
       "855965   36 months     11.99       797.03     B        B5  ...     NaN   \n",
       "855966   60 months     15.99       316.07     D        D2  ...     NaN   \n",
       "855967   60 months     19.99       317.86     E        E3  ...     NaN   \n",
       "855968   36 months     11.99       664.20     B        B5  ...     NaN   \n",
       "\n",
       "       open_rv_12m open_rv_24m  max_bal_bc all_util total_rev_hi_lim inq_fi  \\\n",
       "855964         NaN         NaN         NaN      NaN          17100.0    NaN   \n",
       "855965         NaN         NaN         NaN      NaN          10200.0    NaN   \n",
       "855966         NaN         NaN         NaN      NaN          18000.0    NaN   \n",
       "855967         NaN         NaN         NaN      NaN          27000.0    NaN   \n",
       "855968         NaN         NaN         NaN      NaN          41700.0    NaN   \n",
       "\n",
       "       total_cu_tl inq_last_12m default_ind  \n",
       "855964         NaN          NaN           0  \n",
       "855965         NaN          NaN           0  \n",
       "855966         NaN          NaN           0  \n",
       "855967         NaN          NaN           0  \n",
       "855968         NaN          NaN           0  \n",
       "\n",
       "[5 rows x 73 columns]"
      ]
     },
     "execution_count": 4,
     "metadata": {},
     "output_type": "execute_result"
    }
   ],
   "source": [
    "xyz_corp.tail()"
   ]
  },
  {
   "cell_type": "markdown",
   "metadata": {},
   "source": [
    "# EDA"
   ]
  },
  {
   "cell_type": "code",
   "execution_count": 5,
   "metadata": {},
   "outputs": [
    {
     "data": {
      "text/plain": [
       "Index(['id', 'member_id', 'loan_amnt', 'funded_amnt', 'funded_amnt_inv',\n",
       "       'term', 'int_rate', 'installment', 'grade', 'sub_grade', 'emp_title',\n",
       "       'emp_length', 'home_ownership', 'annual_inc', 'verification_status',\n",
       "       'issue_d', 'pymnt_plan', 'desc', 'purpose', 'title', 'zip_code',\n",
       "       'addr_state', 'dti', 'delinq_2yrs', 'earliest_cr_line',\n",
       "       'inq_last_6mths', 'mths_since_last_delinq', 'mths_since_last_record',\n",
       "       'open_acc', 'pub_rec', 'revol_bal', 'revol_util', 'total_acc',\n",
       "       'initial_list_status', 'out_prncp', 'out_prncp_inv', 'total_pymnt',\n",
       "       'total_pymnt_inv', 'total_rec_prncp', 'total_rec_int',\n",
       "       'total_rec_late_fee', 'recoveries', 'collection_recovery_fee',\n",
       "       'last_pymnt_d', 'last_pymnt_amnt', 'next_pymnt_d', 'last_credit_pull_d',\n",
       "       'collections_12_mths_ex_med', 'mths_since_last_major_derog',\n",
       "       'policy_code', 'application_type', 'annual_inc_joint', 'dti_joint',\n",
       "       'verification_status_joint', 'acc_now_delinq', 'tot_coll_amt',\n",
       "       'tot_cur_bal', 'open_acc_6m', 'open_il_6m', 'open_il_12m',\n",
       "       'open_il_24m', 'mths_since_rcnt_il', 'total_bal_il', 'il_util',\n",
       "       'open_rv_12m', 'open_rv_24m', 'max_bal_bc', 'all_util',\n",
       "       'total_rev_hi_lim', 'inq_fi', 'total_cu_tl', 'inq_last_12m',\n",
       "       'default_ind'],\n",
       "      dtype='object')"
      ]
     },
     "execution_count": 5,
     "metadata": {},
     "output_type": "execute_result"
    }
   ],
   "source": [
    "xyz_corp.columns"
   ]
  },
  {
   "cell_type": "code",
   "execution_count": 6,
   "metadata": {},
   "outputs": [
    {
     "data": {
      "text/plain": [
       "(855969, 73)"
      ]
     },
     "execution_count": 6,
     "metadata": {},
     "output_type": "execute_result"
    }
   ],
   "source": [
    "# check the shape or demension of the data.\n",
    "\n",
    "xyz_corp.shape #(rows, columns)"
   ]
  },
  {
   "cell_type": "code",
   "execution_count": 7,
   "metadata": {},
   "outputs": [
    {
     "name": "stdout",
     "output_type": "stream",
     "text": [
      "<class 'pandas.core.frame.DataFrame'>\n",
      "RangeIndex: 855969 entries, 0 to 855968\n",
      "Data columns (total 73 columns):\n",
      "id                             855969 non-null int64\n",
      "member_id                      855969 non-null int64\n",
      "loan_amnt                      855969 non-null float64\n",
      "funded_amnt                    855969 non-null float64\n",
      "funded_amnt_inv                855969 non-null float64\n",
      "term                           855969 non-null object\n",
      "int_rate                       855969 non-null float64\n",
      "installment                    855969 non-null float64\n",
      "grade                          855969 non-null object\n",
      "sub_grade                      855969 non-null object\n",
      "emp_title                      806526 non-null object\n",
      "emp_length                     812908 non-null object\n",
      "home_ownership                 855969 non-null object\n",
      "annual_inc                     855969 non-null float64\n",
      "verification_status            855969 non-null object\n",
      "issue_d                        855969 non-null datetime64[ns]\n",
      "pymnt_plan                     855969 non-null object\n",
      "desc                           121812 non-null object\n",
      "purpose                        855969 non-null object\n",
      "title                          855936 non-null object\n",
      "zip_code                       855969 non-null object\n",
      "addr_state                     855969 non-null object\n",
      "dti                            855969 non-null float64\n",
      "delinq_2yrs                    855969 non-null float64\n",
      "earliest_cr_line               855969 non-null object\n",
      "inq_last_6mths                 855969 non-null float64\n",
      "mths_since_last_delinq         416157 non-null float64\n",
      "mths_since_last_record         131184 non-null float64\n",
      "open_acc                       855969 non-null float64\n",
      "pub_rec                        855969 non-null float64\n",
      "revol_bal                      855969 non-null float64\n",
      "revol_util                     855523 non-null float64\n",
      "total_acc                      855969 non-null float64\n",
      "initial_list_status            855969 non-null object\n",
      "out_prncp                      855969 non-null float64\n",
      "out_prncp_inv                  855969 non-null float64\n",
      "total_pymnt                    855969 non-null float64\n",
      "total_pymnt_inv                855969 non-null float64\n",
      "total_rec_prncp                855969 non-null float64\n",
      "total_rec_int                  855969 non-null float64\n",
      "total_rec_late_fee             855969 non-null float64\n",
      "recoveries                     855969 non-null float64\n",
      "collection_recovery_fee        855969 non-null float64\n",
      "last_pymnt_d                   847107 non-null object\n",
      "last_pymnt_amnt                855969 non-null float64\n",
      "next_pymnt_d                   602998 non-null object\n",
      "last_credit_pull_d             855919 non-null object\n",
      "collections_12_mths_ex_med     855913 non-null float64\n",
      "mths_since_last_major_derog    213139 non-null float64\n",
      "policy_code                    855969 non-null float64\n",
      "application_type               855969 non-null object\n",
      "annual_inc_joint               442 non-null float64\n",
      "dti_joint                      440 non-null float64\n",
      "verification_status_joint      442 non-null object\n",
      "acc_now_delinq                 855969 non-null float64\n",
      "tot_coll_amt                   788656 non-null float64\n",
      "tot_cur_bal                    788656 non-null float64\n",
      "open_acc_6m                    13288 non-null float64\n",
      "open_il_6m                     13288 non-null float64\n",
      "open_il_12m                    13288 non-null float64\n",
      "open_il_24m                    13288 non-null float64\n",
      "mths_since_rcnt_il             12934 non-null float64\n",
      "total_bal_il                   13288 non-null float64\n",
      "il_util                        11609 non-null float64\n",
      "open_rv_12m                    13288 non-null float64\n",
      "open_rv_24m                    13288 non-null float64\n",
      "max_bal_bc                     13288 non-null float64\n",
      "all_util                       13288 non-null float64\n",
      "total_rev_hi_lim               788656 non-null float64\n",
      "inq_fi                         13288 non-null float64\n",
      "total_cu_tl                    13288 non-null float64\n",
      "inq_last_12m                   13288 non-null float64\n",
      "default_ind                    855969 non-null int64\n",
      "dtypes: datetime64[ns](1), float64(49), int64(3), object(20)\n",
      "memory usage: 476.7+ MB\n"
     ]
    }
   ],
   "source": [
    "# display the information of the data.\n",
    "\n",
    "xyz_corp.info()"
   ]
  },
  {
   "cell_type": "code",
   "execution_count": 8,
   "metadata": {},
   "outputs": [
    {
     "data": {
      "text/plain": [
       "id                    int64\n",
       "member_id             int64\n",
       "loan_amnt           float64\n",
       "funded_amnt         float64\n",
       "funded_amnt_inv     float64\n",
       "                     ...   \n",
       "total_rev_hi_lim    float64\n",
       "inq_fi              float64\n",
       "total_cu_tl         float64\n",
       "inq_last_12m        float64\n",
       "default_ind           int64\n",
       "Length: 73, dtype: object"
      ]
     },
     "execution_count": 8,
     "metadata": {},
     "output_type": "execute_result"
    }
   ],
   "source": [
    "xyz_corp.dtypes"
   ]
  },
  {
   "cell_type": "code",
   "execution_count": 9,
   "metadata": {},
   "outputs": [
    {
     "data": {
      "text/plain": [
       "dtype('int64')"
      ]
     },
     "execution_count": 9,
     "metadata": {},
     "output_type": "execute_result"
    }
   ],
   "source": [
    "xyz_corp.default_ind.dtypes"
   ]
  },
  {
   "cell_type": "code",
   "execution_count": 10,
   "metadata": {},
   "outputs": [
    {
     "data": {
      "text/plain": [
       "dtype('<M8[ns]')"
      ]
     },
     "execution_count": 10,
     "metadata": {},
     "output_type": "execute_result"
    }
   ],
   "source": [
    "xyz_corp.issue_d.dtypes"
   ]
  },
  {
   "cell_type": "markdown",
   "metadata": {},
   "source": [
    "## Dependent Variable Analysis "
   ]
  },
  {
   "cell_type": "code",
   "execution_count": 11,
   "metadata": {},
   "outputs": [
    {
     "data": {
      "text/plain": [
       "0    809502\n",
       "1     46467\n",
       "Name: default_ind, dtype: int64"
      ]
     },
     "execution_count": 11,
     "metadata": {},
     "output_type": "execute_result"
    }
   ],
   "source": [
    "#check the dependent variable counts\n",
    "\n",
    "xyz_corp['default_ind'].value_counts()"
   ]
  },
  {
   "cell_type": "code",
   "execution_count": 12,
   "metadata": {},
   "outputs": [
    {
     "data": {
      "text/plain": [
       "<matplotlib.axes._subplots.AxesSubplot at 0x27180058648>"
      ]
     },
     "execution_count": 12,
     "metadata": {},
     "output_type": "execute_result"
    },
    {
     "data": {
      "image/png": "[encoded data removed]",
      "text/plain": [
       "<Figure size 432x288 with 1 Axes>"
      ]
     },
     "metadata": {
      "needs_background": "light"
     },
     "output_type": "display_data"
    }
   ],
   "source": [
    "sns.countplot(xyz_corp['default_ind'])"
   ]
  },
  {
   "cell_type": "markdown",
   "metadata": {},
   "source": [
    "Thus, we can conclude it is an Imbalanced Data."
   ]
  },
  {
   "cell_type": "markdown",
   "metadata": {},
   "source": [
    "### Null Values "
   ]
  },
  {
   "cell_type": "code",
   "execution_count": 13,
   "metadata": {},
   "outputs": [
    {
     "data": {
      "text/plain": [
       "True"
      ]
     },
     "execution_count": 13,
     "metadata": {},
     "output_type": "execute_result"
    }
   ],
   "source": [
    "# check the null values is present or not/ true or flase\n",
    "\n",
    "xyz_corp.isnull().sum().any()"
   ]
  },
  {
   "cell_type": "code",
   "execution_count": 14,
   "metadata": {},
   "outputs": [
    {
     "data": {
      "text/plain": [
       "32"
      ]
     },
     "execution_count": 14,
     "metadata": {},
     "output_type": "execute_result"
    }
   ],
   "source": [
    "#check the how many variables or columns are present in null values\n",
    "\n",
    "xyz_corp.isnull().any().sum()"
   ]
  },
  {
   "cell_type": "code",
   "execution_count": 15,
   "metadata": {},
   "outputs": [
    {
     "data": {
      "text/plain": [
       "id                       0\n",
       "member_id                0\n",
       "loan_amnt                0\n",
       "funded_amnt              0\n",
       "funded_amnt_inv          0\n",
       "                     ...  \n",
       "total_rev_hi_lim     67313\n",
       "inq_fi              842681\n",
       "total_cu_tl         842681\n",
       "inq_last_12m        842681\n",
       "default_ind              0\n",
       "Length: 73, dtype: int64"
      ]
     },
     "execution_count": 15,
     "metadata": {},
     "output_type": "execute_result"
    }
   ],
   "source": [
    "#To Display the null values counts and columns names\n",
    "\n",
    "xyz_corp.isnull().sum()"
   ]
  },
  {
   "cell_type": "markdown",
   "metadata": {},
   "source": [
    "Next up, we want to get rid of sparsely populated variables, so we remove columns with more that 70% missing values"
   ]
  },
  {
   "cell_type": "code",
   "execution_count": 16,
   "metadata": {},
   "outputs": [
    {
     "data": {
      "text/plain": [
       "title                           0.003855\n",
       "last_credit_pull_d              0.005841\n",
       "collections_12_mths_ex_med      0.006542\n",
       "revol_util                      0.052105\n",
       "last_pymnt_d                    1.035318\n",
       "emp_length                      5.030673\n",
       "emp_title                       5.776261\n",
       "total_rev_hi_lim                7.863953\n",
       "tot_cur_bal                     7.863953\n",
       "tot_coll_amt                    7.863953\n",
       "next_pymnt_d                   29.553757\n",
       "mths_since_last_delinq         51.381767\n",
       "mths_since_last_major_derog    75.099682\n",
       "mths_since_last_record         84.674211\n",
       "desc                           85.769111\n",
       "inq_fi                         98.447607\n",
       "all_util                       98.447607\n",
       "max_bal_bc                     98.447607\n",
       "open_rv_24m                    98.447607\n",
       "open_rv_12m                    98.447607\n",
       "total_bal_il                   98.447607\n",
       "open_il_24m                    98.447607\n",
       "open_il_12m                    98.447607\n",
       "open_il_6m                     98.447607\n",
       "open_acc_6m                    98.447607\n",
       "total_cu_tl                    98.447607\n",
       "inq_last_12m                   98.447607\n",
       "mths_since_rcnt_il             98.488964\n",
       "il_util                        98.643759\n",
       "verification_status_joint      99.948363\n",
       "annual_inc_joint               99.948363\n",
       "dti_joint                      99.948596\n",
       "dtype: float64"
      ]
     },
     "execution_count": 16,
     "metadata": {},
     "output_type": "execute_result"
    }
   ],
   "source": [
    "#Display percentage of null values in each column\n",
    "miss = xyz_corp.isnull().sum() / len(xyz_corp) * 100\n",
    "miss = miss[miss > 0]\n",
    "miss.sort_values(inplace=True)\n",
    "miss"
   ]
  },
  {
   "cell_type": "markdown",
   "metadata": {},
   "source": [
    "1)mths_since_last_major_derog, \n",
    "2)mths_since_last_record,\n",
    "3)desc,\n",
    "4)inq_fi,\n",
    "5)all_util,\n",
    "6)max_bal_bc,7)open_rv_24m,8)open_rv_12m,9)total_bal_il,\n",
    "10)open_il_24m,11)open_il_12m,12)open_il_6m,13)open_acc_6m,14)total_cu_tl,15)inq_last_12m,\n",
    "16)mths_since_rcnt_il,17)il_util,18)verification_status_joint,19)annual_inc_joint,20)dti_joint"
   ]
  },
  {
   "cell_type": "code",
   "execution_count": 17,
   "metadata": {},
   "outputs": [],
   "source": [
    "#Removing features having more than 700000 missing values \n",
    "\n",
    "lis=xyz_corp.isnull().sum()\n",
    "for i in range(len(lis)):\n",
    "    if lis[i]>700000:\n",
    "        del xyz_corp[(lis.index[i])]"
   ]
  },
  {
   "cell_type": "code",
   "execution_count": 18,
   "metadata": {},
   "outputs": [
    {
     "data": {
      "text/plain": [
       "(855969, 54)"
      ]
     },
     "execution_count": 18,
     "metadata": {},
     "output_type": "execute_result"
    }
   ],
   "source": [
    "xyz_corp.shape"
   ]
  },
  {
   "cell_type": "markdown",
   "metadata": {},
   "source": [
    "* We have 19 variables which we can remove from modelling and analysis\n",
    "* We should also remove those observations where all values are NAs or nulls"
   ]
  },
  {
   "cell_type": "code",
   "execution_count": 19,
   "metadata": {},
   "outputs": [
    {
     "data": {
      "text/plain": [
       "id                                  0\n",
       "member_id                           0\n",
       "loan_amnt                           0\n",
       "funded_amnt                         0\n",
       "funded_amnt_inv                     0\n",
       "term                                0\n",
       "int_rate                            0\n",
       "installment                         0\n",
       "grade                               0\n",
       "sub_grade                           0\n",
       "emp_title                       49443\n",
       "emp_length                      43061\n",
       "home_ownership                      0\n",
       "annual_inc                          0\n",
       "verification_status                 0\n",
       "issue_d                             0\n",
       "pymnt_plan                          0\n",
       "purpose                             0\n",
       "title                              33\n",
       "zip_code                            0\n",
       "addr_state                          0\n",
       "dti                                 0\n",
       "delinq_2yrs                         0\n",
       "earliest_cr_line                    0\n",
       "inq_last_6mths                      0\n",
       "mths_since_last_delinq         439812\n",
       "open_acc                            0\n",
       "pub_rec                             0\n",
       "revol_bal                           0\n",
       "revol_util                        446\n",
       "total_acc                           0\n",
       "initial_list_status                 0\n",
       "out_prncp                           0\n",
       "out_prncp_inv                       0\n",
       "total_pymnt                         0\n",
       "total_pymnt_inv                     0\n",
       "total_rec_prncp                     0\n",
       "total_rec_int                       0\n",
       "total_rec_late_fee                  0\n",
       "recoveries                          0\n",
       "collection_recovery_fee             0\n",
       "last_pymnt_d                     8862\n",
       "last_pymnt_amnt                     0\n",
       "next_pymnt_d                   252971\n",
       "last_credit_pull_d                 50\n",
       "collections_12_mths_ex_med         56\n",
       "mths_since_last_major_derog    642830\n",
       "policy_code                         0\n",
       "application_type                    0\n",
       "acc_now_delinq                      0\n",
       "tot_coll_amt                    67313\n",
       "tot_cur_bal                     67313\n",
       "total_rev_hi_lim                67313\n",
       "default_ind                         0\n",
       "dtype: int64"
      ]
     },
     "execution_count": 19,
     "metadata": {},
     "output_type": "execute_result"
    }
   ],
   "source": [
    "null = xyz_corp.isnull().sum()\n",
    "null"
   ]
  },
  {
   "cell_type": "code",
   "execution_count": 20,
   "metadata": {},
   "outputs": [
    {
     "data": {
      "text/plain": [
       "Text(0.5, 1.0, 'List of columns after removing columns above 700000 NAs')"
      ]
     },
     "execution_count": 20,
     "metadata": {},
     "output_type": "execute_result"
    },
    {
     "data": {
      "image/png": "[encoded data removed]",
      "text/plain": [
       "<Figure size 1440x288 with 1 Axes>"
      ]
     },
     "metadata": {
      "needs_background": "light"
     },
     "output_type": "display_data"
    }
   ],
   "source": [
    "\n",
    "\n",
    "fig=plt.figure(figsize=(20,4))\n",
    "null.plot(kind='bar')\n",
    "plt.title('List of columns after removing columns above 700000 NAs')"
   ]
  },
  {
   "cell_type": "markdown",
   "metadata": {},
   "source": [
    "## Coorelation with Dependent Variable( default_ind )"
   ]
  },
  {
   "cell_type": "code",
   "execution_count": 21,
   "metadata": {},
   "outputs": [
    {
     "data": {
      "text/plain": [
       "id                            -0.219832\n",
       "member_id                     -0.220181\n",
       "loan_amnt                     -0.004907\n",
       "funded_amnt                   -0.005797\n",
       "funded_amnt_inv               -0.008209\n",
       "int_rate                       0.155037\n",
       "installment                    0.004753\n",
       "annual_inc                    -0.037066\n",
       "dti                            0.004429\n",
       "delinq_2yrs                   -0.009186\n",
       "inq_last_6mths                 0.074407\n",
       "mths_since_last_delinq         0.001317\n",
       "open_acc                      -0.021698\n",
       "pub_rec                       -0.019607\n",
       "revol_bal                     -0.020696\n",
       "revol_util                     0.044497\n",
       "total_acc                     -0.021087\n",
       "out_prncp                     -0.225960\n",
       "out_prncp_inv                 -0.225959\n",
       "total_pymnt                   -0.039220\n",
       "total_pymnt_inv               -0.040232\n",
       "total_rec_prncp               -0.090336\n",
       "total_rec_int                  0.046050\n",
       "total_rec_late_fee             0.140760\n",
       "recoveries                     0.475738\n",
       "collection_recovery_fee        0.330764\n",
       "last_pymnt_amnt               -0.087217\n",
       "collections_12_mths_ex_med    -0.010650\n",
       "mths_since_last_major_derog   -0.013658\n",
       "policy_code                         NaN\n",
       "acc_now_delinq                -0.003116\n",
       "tot_coll_amt                  -0.001921\n",
       "tot_cur_bal                   -0.036335\n",
       "total_rev_hi_lim              -0.033620\n",
       "default_ind                    1.000000\n",
       "Name: default_ind, dtype: float64"
      ]
     },
     "execution_count": 21,
     "metadata": {},
     "output_type": "execute_result"
    },
    {
     "data": {
      "text/plain": [
       "<Figure size 1440x1296 with 0 Axes>"
      ]
     },
     "metadata": {},
     "output_type": "display_data"
    }
   ],
   "source": [
    "#Using Pearson Correlation\n",
    "plt.figure(figsize=(20,18))\n",
    "cor = xyz_corp.corr()\n",
    "cor_target = (cor[\"default_ind\"])\n",
    "\n",
    "cor_target"
   ]
  },
  {
   "cell_type": "markdown",
   "metadata": {},
   "source": [
    "### Romoving columns with Low Coorelation  "
   ]
  },
  {
   "cell_type": "code",
   "execution_count": 22,
   "metadata": {},
   "outputs": [],
   "source": [
    "# The thersholud value of the coorelation is 0.02\n",
    "\n",
    "lis2=[]\n",
    "for i in range(len(cor_target)):\n",
    "    if cor_target[i]<0.02 and cor_target[i]>(-0.02):\n",
    "        lis2.append(cor_target.index[i])"
   ]
  },
  {
   "cell_type": "code",
   "execution_count": 23,
   "metadata": {},
   "outputs": [],
   "source": [
    "\n",
    "for i in range(len(lis2)):\n",
    "    xyz_corp.drop(lis2[i],axis=1, inplace = True)"
   ]
  },
  {
   "cell_type": "code",
   "execution_count": 24,
   "metadata": {},
   "outputs": [
    {
     "data": {
      "text/plain": [
       "(855969, 42)"
      ]
     },
     "execution_count": 24,
     "metadata": {},
     "output_type": "execute_result"
    }
   ],
   "source": [
    "xyz_corp.shape"
   ]
  },
  {
   "cell_type": "code",
   "execution_count": 25,
   "metadata": {},
   "outputs": [
    {
     "data": {
      "image/png": "[encoded data removed]",
      "text/plain": [
       "<Figure size 1440x1152 with 2 Axes>"
      ]
     },
     "metadata": {
      "needs_background": "light"
     },
     "output_type": "display_data"
    }
   ],
   "source": [
    "#Heat Map\n",
    "\n",
    "plt.figure(figsize=(20,16))\n",
    "cor = xyz_corp.corr()\n",
    "sns.heatmap(cor, annot=True, cmap=plt.cm.Greens)\n",
    "plt.show()"
   ]
  },
  {
   "cell_type": "markdown",
   "metadata": {},
   "source": [
    "### Term"
   ]
  },
  {
   "cell_type": "code",
   "execution_count": 26,
   "metadata": {},
   "outputs": [
    {
     "data": {
      "text/plain": [
       " 36 months    600221\n",
       " 60 months    255748\n",
       "Name: term, dtype: int64"
      ]
     },
     "execution_count": 26,
     "metadata": {},
     "output_type": "execute_result"
    }
   ],
   "source": [
    "xyz_corp['term'].value_counts()"
   ]
  },
  {
   "cell_type": "code",
   "execution_count": 27,
   "metadata": {},
   "outputs": [
    {
     "data": {
      "text/plain": [
       "<matplotlib.axes._subplots.AxesSubplot at 0x271809ed748>"
      ]
     },
     "execution_count": 27,
     "metadata": {},
     "output_type": "execute_result"
    },
    {
     "data": {
      "image/png": "[encoded data removed]",
      "text/plain": [
       "<Figure size 432x288 with 1 Axes>"
      ]
     },
     "metadata": {
      "needs_background": "light"
     },
     "output_type": "display_data"
    }
   ],
   "source": [
    "sns.countplot('term',data=xyz_corp,hue='default_ind')"
   ]
  },
  {
   "cell_type": "code",
   "execution_count": 28,
   "metadata": {},
   "outputs": [
    {
     "data": {
      "text/plain": [
       "<matplotlib.axes._subplots.AxesSubplot at 0x27183e1c448>"
      ]
     },
     "execution_count": 28,
     "metadata": {},
     "output_type": "execute_result"
    },
    {
     "data": {
      "image/png": "[encoded data removed]",
      "text/plain": [
       "<Figure size 1080x270 with 2 Axes>"
      ]
     },
     "metadata": {
      "needs_background": "light"
     },
     "output_type": "display_data"
    }
   ],
   "source": [
    "f,(ax1,ax2)=plt.subplots(nrows=1,ncols=2,figsize=(12,3),dpi=90)\n",
    "sns.countplot(xyz_corp['term'],ax=ax1)\n",
    "sns.countplot('term',hue='default_ind',data=xyz_corp,ax=ax2)"
   ]
  },
  {
   "cell_type": "code",
   "execution_count": 29,
   "metadata": {},
   "outputs": [],
   "source": [
    "xyz_corp['term'] = np.where(xyz_corp['term']==' 36 months', 0,xyz_corp['term'])\n",
    "xyz_corp['term'] = np.where(xyz_corp['term']==' 60 months', 1,xyz_corp['term'])"
   ]
  },
  {
   "cell_type": "code",
   "execution_count": 30,
   "metadata": {},
   "outputs": [
    {
     "data": {
      "text/plain": [
       "0    600221\n",
       "1    255748\n",
       "Name: term, dtype: int64"
      ]
     },
     "execution_count": 30,
     "metadata": {},
     "output_type": "execute_result"
    }
   ],
   "source": [
    "xyz_corp['term'].value_counts()"
   ]
  },
  {
   "cell_type": "code",
   "execution_count": 31,
   "metadata": {},
   "outputs": [],
   "source": [
    "xyz_corp['term']=xyz_corp['term'].astype(float)"
   ]
  },
  {
   "cell_type": "markdown",
   "metadata": {},
   "source": [
    "### Grade "
   ]
  },
  {
   "cell_type": "code",
   "execution_count": 32,
   "metadata": {},
   "outputs": [
    {
     "data": {
      "text/plain": [
       "B    247998\n",
       "C    236855\n",
       "A    145665\n",
       "D    132802\n",
       "E     66448\n",
       "F     21328\n",
       "G      4873\n",
       "Name: grade, dtype: int64"
      ]
     },
     "execution_count": 32,
     "metadata": {},
     "output_type": "execute_result"
    }
   ],
   "source": [
    "xyz_corp['grade'].value_counts()"
   ]
  },
  {
   "cell_type": "code",
   "execution_count": 33,
   "metadata": {},
   "outputs": [
    {
     "data": {
      "text/plain": [
       "<matplotlib.axes._subplots.AxesSubplot at 0x27180f48488>"
      ]
     },
     "execution_count": 33,
     "metadata": {},
     "output_type": "execute_result"
    },
    {
     "data": {
      "image/png": "[encoded data removed]",
      "text/plain": [
       "<Figure size 1080x270 with 2 Axes>"
      ]
     },
     "metadata": {
      "needs_background": "light"
     },
     "output_type": "display_data"
    }
   ],
   "source": [
    "f,(ax1,ax2)=plt.subplots(nrows=1,ncols=2,figsize=(12,3),dpi=90)\n",
    "sns.countplot(xyz_corp['grade'],ax=ax1)\n",
    "sns.countplot('grade',hue='default_ind',data=xyz_corp,ax=ax2)"
   ]
  },
  {
   "cell_type": "code",
   "execution_count": 34,
   "metadata": {},
   "outputs": [
    {
     "data": {
      "text/plain": [
       "<matplotlib.axes._subplots.AxesSubplot at 0x27180ea3208>"
      ]
     },
     "execution_count": 34,
     "metadata": {},
     "output_type": "execute_result"
    },
    {
     "data": {
      "image/png": "[encoded data removed]",
      "text/plain": [
       "<Figure size 432x288 with 1 Axes>"
      ]
     },
     "metadata": {
      "needs_background": "light"
     },
     "output_type": "display_data"
    }
   ],
   "source": [
    "sns.countplot('grade',data=xyz_corp,hue='default_ind')\n"
   ]
  },
  {
   "cell_type": "code",
   "execution_count": 35,
   "metadata": {},
   "outputs": [],
   "source": [
    "xyz_corp['grade'] = np.where(xyz_corp['grade'] == 'A', 0, xyz_corp['grade'])\n",
    "xyz_corp['grade'] = np.where(xyz_corp['grade'] == 'B', 0, xyz_corp['grade'])\n",
    "xyz_corp['grade'] = np.where(xyz_corp['grade'] == 'C', 0, xyz_corp['grade'])\n",
    "xyz_corp['grade'] = np.where(xyz_corp['grade'] == 'D', 1, xyz_corp['grade'])\n",
    "xyz_corp['grade'] = np.where(xyz_corp['grade'] == 'E', 1, xyz_corp['grade'])\n",
    "xyz_corp['grade'] = np.where(xyz_corp['grade'] == 'F', 1, xyz_corp['grade'])\n",
    "xyz_corp['grade'] = np.where(xyz_corp['grade'] == 'G', 1, xyz_corp['grade'])"
   ]
  },
  {
   "cell_type": "code",
   "execution_count": 36,
   "metadata": {},
   "outputs": [
    {
     "data": {
      "text/plain": [
       "0    630518\n",
       "1    225451\n",
       "Name: grade, dtype: int64"
      ]
     },
     "execution_count": 36,
     "metadata": {},
     "output_type": "execute_result"
    }
   ],
   "source": [
    "xyz_corp['grade'].value_counts()"
   ]
  },
  {
   "cell_type": "code",
   "execution_count": 37,
   "metadata": {},
   "outputs": [],
   "source": [
    "xyz_corp['grade']=xyz_corp['grade'].astype(float)"
   ]
  },
  {
   "cell_type": "markdown",
   "metadata": {},
   "source": [
    "### Home_Ownership "
   ]
  },
  {
   "cell_type": "code",
   "execution_count": 38,
   "metadata": {},
   "outputs": [
    {
     "data": {
      "text/plain": [
       "MORTGAGE    429106\n",
       "RENT        342535\n",
       "OWN          84136\n",
       "OTHER          144\n",
       "NONE            45\n",
       "ANY              3\n",
       "Name: home_ownership, dtype: int64"
      ]
     },
     "execution_count": 38,
     "metadata": {},
     "output_type": "execute_result"
    }
   ],
   "source": [
    "xyz_corp['home_ownership'].value_counts()"
   ]
  },
  {
   "cell_type": "code",
   "execution_count": 39,
   "metadata": {},
   "outputs": [
    {
     "data": {
      "text/plain": [
       "home_ownership  default_ind\n",
       "ANY             0                   3\n",
       "MORTGAGE        0              408730\n",
       "                1               20376\n",
       "NONE            0                  38\n",
       "                1                   7\n",
       "OTHER           0                 117\n",
       "                1                  27\n",
       "OWN             0               80001\n",
       "                1                4135\n",
       "RENT            0              320613\n",
       "                1               21922\n",
       "Name: default_ind, dtype: int64"
      ]
     },
     "execution_count": 39,
     "metadata": {},
     "output_type": "execute_result"
    }
   ],
   "source": [
    "df=xyz_corp.groupby('home_ownership')\n",
    "df['default_ind'].value_counts()"
   ]
  },
  {
   "cell_type": "code",
   "execution_count": 40,
   "metadata": {},
   "outputs": [
    {
     "data": {
      "text/plain": [
       "<matplotlib.axes._subplots.AxesSubplot at 0x27180ffca08>"
      ]
     },
     "execution_count": 40,
     "metadata": {},
     "output_type": "execute_result"
    },
    {
     "data": {
      "image/png": "[encoded data removed]",
      "text/plain": [
       "<Figure size 1080x270 with 2 Axes>"
      ]
     },
     "metadata": {
      "needs_background": "light"
     },
     "output_type": "display_data"
    }
   ],
   "source": [
    "f,(ax1,ax2)=plt.subplots(nrows=1,ncols=2,figsize=(12,3),dpi=90)\n",
    "sns.countplot(xyz_corp['home_ownership'],ax=ax1)\n",
    "sns.countplot('home_ownership',hue='default_ind',data=xyz_corp,ax=ax2)"
   ]
  },
  {
   "cell_type": "code",
   "execution_count": 41,
   "metadata": {},
   "outputs": [
    {
     "data": {
      "text/plain": [
       "<matplotlib.axes._subplots.AxesSubplot at 0x271811f2448>"
      ]
     },
     "execution_count": 41,
     "metadata": {},
     "output_type": "execute_result"
    },
    {
     "data": {
      "image/png": "[encoded data removed]",
      "text/plain": [
       "<Figure size 432x288 with 1 Axes>"
      ]
     },
     "metadata": {
      "needs_background": "light"
     },
     "output_type": "display_data"
    }
   ],
   "source": [
    "sns.countplot('home_ownership',data=xyz_corp,hue='default_ind')"
   ]
  },
  {
   "cell_type": "code",
   "execution_count": 42,
   "metadata": {},
   "outputs": [],
   "source": [
    "xyz_corp['home_ownership'] = np.where(xyz_corp['home_ownership']=='RENT', 1, xyz_corp['home_ownership'])\n",
    "xyz_corp['home_ownership'] = np.where(xyz_corp['home_ownership']=='OWN', 1, xyz_corp['home_ownership'])\n",
    "xyz_corp['home_ownership'] = np.where(xyz_corp['home_ownership']=='MORTGAGE', 1, xyz_corp['home_ownership'])\n",
    "xyz_corp['home_ownership'] = np.where(xyz_corp['home_ownership']=='NONE', 2, xyz_corp['home_ownership'])\n",
    "xyz_corp['home_ownership'] = np.where(xyz_corp['home_ownership']=='OTHER', 2, xyz_corp['home_ownership'])\n",
    "xyz_corp['home_ownership'] = np.where(xyz_corp['home_ownership']=='ANY', 0, xyz_corp['home_ownership'])"
   ]
  },
  {
   "cell_type": "code",
   "execution_count": 43,
   "metadata": {},
   "outputs": [
    {
     "data": {
      "text/plain": [
       "1    855777\n",
       "2       189\n",
       "0         3\n",
       "Name: home_ownership, dtype: int64"
      ]
     },
     "execution_count": 43,
     "metadata": {},
     "output_type": "execute_result"
    }
   ],
   "source": [
    "xyz_corp['home_ownership'].value_counts()"
   ]
  },
  {
   "cell_type": "code",
   "execution_count": 44,
   "metadata": {},
   "outputs": [],
   "source": [
    "df=pd.get_dummies(xyz_corp['home_ownership'],drop_first=True)\n",
    "xyz_corp=pd.concat([df, xyz_corp],axis=1)\n",
    "\n",
    "# Dummy Variables"
   ]
  },
  {
   "cell_type": "code",
   "execution_count": 45,
   "metadata": {},
   "outputs": [],
   "source": [
    "xyz_corp.drop(['home_ownership'],axis = 1, inplace = True )"
   ]
  },
  {
   "cell_type": "markdown",
   "metadata": {},
   "source": [
    "### Verification_Status"
   ]
  },
  {
   "cell_type": "code",
   "execution_count": 46,
   "metadata": {},
   "outputs": [
    {
     "data": {
      "text/plain": [
       "verification_status  default_ind\n",
       "Not Verified         0              245256\n",
       "                     1               12486\n",
       "Source Verified      0              303976\n",
       "                     1               14202\n",
       "Verified             0              260270\n",
       "                     1               19779\n",
       "Name: default_ind, dtype: int64"
      ]
     },
     "execution_count": 46,
     "metadata": {},
     "output_type": "execute_result"
    }
   ],
   "source": [
    "#data['verification_status'].value_counts()\n",
    "\n",
    "df=xyz_corp.groupby('verification_status')\n",
    "df['default_ind'].value_counts()"
   ]
  },
  {
   "cell_type": "code",
   "execution_count": 47,
   "metadata": {},
   "outputs": [
    {
     "data": {
      "text/plain": [
       "<matplotlib.axes._subplots.AxesSubplot at 0x2718098d208>"
      ]
     },
     "execution_count": 47,
     "metadata": {},
     "output_type": "execute_result"
    },
    {
     "data": {
      "image/png": "[encoded data removed]",
      "text/plain": [
       "<Figure size 1080x270 with 2 Axes>"
      ]
     },
     "metadata": {
      "needs_background": "light"
     },
     "output_type": "display_data"
    }
   ],
   "source": [
    "f,(ax1,ax2)=plt.subplots(nrows=1,ncols=2,figsize=(12,3),dpi=90)\n",
    "sns.countplot(xyz_corp['verification_status'],ax=ax1)\n",
    "sns.countplot('verification_status',hue='default_ind',data=xyz_corp,ax=ax2)"
   ]
  },
  {
   "cell_type": "code",
   "execution_count": 48,
   "metadata": {},
   "outputs": [
    {
     "data": {
      "text/plain": [
       "<matplotlib.axes._subplots.AxesSubplot at 0x27180b68ec8>"
      ]
     },
     "execution_count": 48,
     "metadata": {},
     "output_type": "execute_result"
    },
    {
     "data": {
      "image/png": "[encoded data removed]",
      "text/plain": [
       "<Figure size 432x288 with 1 Axes>"
      ]
     },
     "metadata": {
      "needs_background": "light"
     },
     "output_type": "display_data"
    }
   ],
   "source": [
    "sns.countplot('verification_status',data=xyz_corp,hue='default_ind')"
   ]
  },
  {
   "cell_type": "code",
   "execution_count": 49,
   "metadata": {},
   "outputs": [],
   "source": [
    "df=pd.get_dummies(xyz_corp['verification_status'],drop_first=True)\n",
    "xyz_corp=pd.concat([df,xyz_corp],axis=1)\n",
    "\n",
    "# Dummy Variables"
   ]
  },
  {
   "cell_type": "code",
   "execution_count": 50,
   "metadata": {},
   "outputs": [],
   "source": [
    "xyz_corp.drop(['verification_status'],axis=1, inplace = True)"
   ]
  },
  {
   "cell_type": "markdown",
   "metadata": {},
   "source": [
    "### Payment_Plan"
   ]
  },
  {
   "cell_type": "code",
   "execution_count": 51,
   "metadata": {},
   "outputs": [
    {
     "data": {
      "text/plain": [
       "n    855964\n",
       "y         5\n",
       "Name: pymnt_plan, dtype: int64"
      ]
     },
     "execution_count": 51,
     "metadata": {},
     "output_type": "execute_result"
    }
   ],
   "source": [
    "xyz_corp['pymnt_plan'].value_counts()"
   ]
  },
  {
   "cell_type": "code",
   "execution_count": 52,
   "metadata": {},
   "outputs": [],
   "source": [
    "xyz_corp.drop(['pymnt_plan'],axis=1, inplace = True)\n",
    "# del data['pymnt_plan']"
   ]
  },
  {
   "cell_type": "markdown",
   "metadata": {},
   "source": [
    "### Initial_list_status  "
   ]
  },
  {
   "cell_type": "code",
   "execution_count": 53,
   "metadata": {},
   "outputs": [
    {
     "data": {
      "text/plain": [
       "f    442555\n",
       "w    413414\n",
       "Name: initial_list_status, dtype: int64"
      ]
     },
     "execution_count": 53,
     "metadata": {},
     "output_type": "execute_result"
    }
   ],
   "source": [
    "xyz_corp['initial_list_status'].value_counts()"
   ]
  },
  {
   "cell_type": "code",
   "execution_count": 54,
   "metadata": {},
   "outputs": [
    {
     "data": {
      "text/plain": [
       "<matplotlib.axes._subplots.AxesSubplot at 0x271816c9488>"
      ]
     },
     "execution_count": 54,
     "metadata": {},
     "output_type": "execute_result"
    },
    {
     "data": {
      "image/png": "[encoded data removed]",
      "text/plain": [
       "<Figure size 432x288 with 1 Axes>"
      ]
     },
     "metadata": {
      "needs_background": "light"
     },
     "output_type": "display_data"
    }
   ],
   "source": [
    "sns.countplot('initial_list_status',data=xyz_corp,hue='default_ind')"
   ]
  },
  {
   "cell_type": "code",
   "execution_count": 55,
   "metadata": {},
   "outputs": [
    {
     "data": {
      "text/plain": [
       "<matplotlib.axes._subplots.AxesSubplot at 0x27180a3b908>"
      ]
     },
     "execution_count": 55,
     "metadata": {},
     "output_type": "execute_result"
    },
    {
     "data": {
      "image/png": "[encoded data removed]",
      "text/plain": [
       "<Figure size 1080x270 with 2 Axes>"
      ]
     },
     "metadata": {
      "needs_background": "light"
     },
     "output_type": "display_data"
    }
   ],
   "source": [
    "f, (ax1,ax2,) = plt.subplots(nrows = 1, ncols = 2, figsize = (12,3),dpi = 90)\n",
    "sns.countplot(xyz_corp['initial_list_status'], ax= ax1)\n",
    "sns.countplot('initial_list_status', hue = 'default_ind', data = xyz_corp, ax = ax2)"
   ]
  },
  {
   "cell_type": "code",
   "execution_count": 56,
   "metadata": {},
   "outputs": [],
   "source": [
    "xyz_corp['initial_list_status'] = np.where(xyz_corp['initial_list_status']=='f', 0, xyz_corp['initial_list_status'])\n",
    "xyz_corp['initial_list_status'] = np.where(xyz_corp['initial_list_status']=='w', 1, xyz_corp['initial_list_status'])"
   ]
  },
  {
   "cell_type": "code",
   "execution_count": 57,
   "metadata": {},
   "outputs": [
    {
     "data": {
      "text/plain": [
       "0    442555\n",
       "1    413414\n",
       "Name: initial_list_status, dtype: int64"
      ]
     },
     "execution_count": 57,
     "metadata": {},
     "output_type": "execute_result"
    }
   ],
   "source": [
    "xyz_corp['initial_list_status'].value_counts()"
   ]
  },
  {
   "cell_type": "code",
   "execution_count": 58,
   "metadata": {},
   "outputs": [],
   "source": [
    "xyz_corp['initial_list_status']=xyz_corp['initial_list_status'].astype(float)"
   ]
  },
  {
   "cell_type": "markdown",
   "metadata": {},
   "source": [
    "### Application_Type "
   ]
  },
  {
   "cell_type": "code",
   "execution_count": 59,
   "metadata": {},
   "outputs": [
    {
     "data": {
      "text/plain": [
       "INDIVIDUAL    855527\n",
       "JOINT            442\n",
       "Name: application_type, dtype: int64"
      ]
     },
     "execution_count": 59,
     "metadata": {},
     "output_type": "execute_result"
    }
   ],
   "source": [
    "xyz_corp['application_type'].value_counts()"
   ]
  },
  {
   "cell_type": "code",
   "execution_count": 60,
   "metadata": {},
   "outputs": [
    {
     "data": {
      "text/plain": [
       "<matplotlib.axes._subplots.AxesSubplot at 0x27181138188>"
      ]
     },
     "execution_count": 60,
     "metadata": {},
     "output_type": "execute_result"
    },
    {
     "data": {
      "image/png": "[encoded data removed]",
      "text/plain": [
       "<Figure size 1080x270 with 2 Axes>"
      ]
     },
     "metadata": {
      "needs_background": "light"
     },
     "output_type": "display_data"
    }
   ],
   "source": [
    "f, (ax1,ax2) = plt.subplots(nrows = 1, ncols = 2, figsize = (12,3), dpi = 90)\n",
    "sns.countplot(xyz_corp['application_type'], ax = ax1)\n",
    "sns.countplot('application_type', hue = 'default_ind', data = xyz_corp, ax =ax2)"
   ]
  },
  {
   "cell_type": "code",
   "execution_count": 61,
   "metadata": {},
   "outputs": [
    {
     "data": {
      "text/plain": [
       "<matplotlib.axes._subplots.AxesSubplot at 0x271811acf88>"
      ]
     },
     "execution_count": 61,
     "metadata": {},
     "output_type": "execute_result"
    },
    {
     "data": {
      "image/png": "[encoded data removed]",
      "text/plain": [
       "<Figure size 432x288 with 1 Axes>"
      ]
     },
     "metadata": {
      "needs_background": "light"
     },
     "output_type": "display_data"
    }
   ],
   "source": [
    "sns.countplot('application_type',data=xyz_corp)"
   ]
  },
  {
   "cell_type": "code",
   "execution_count": 62,
   "metadata": {},
   "outputs": [
    {
     "data": {
      "text/plain": [
       "application_type  default_ind\n",
       "INDIVIDUAL        0              809060\n",
       "                  1               46467\n",
       "JOINT             0                 442\n",
       "Name: default_ind, dtype: int64"
      ]
     },
     "execution_count": 62,
     "metadata": {},
     "output_type": "execute_result"
    }
   ],
   "source": [
    "df=xyz_corp.groupby('application_type')\n",
    "df['default_ind'].value_counts()"
   ]
  },
  {
   "cell_type": "code",
   "execution_count": 63,
   "metadata": {},
   "outputs": [],
   "source": [
    "xyz_corp['application_type'] = np.where(xyz_corp['application_type']=='INDIVIDUAL', 0, xyz_corp['application_type'])\n",
    "xyz_corp['application_type'] = np.where(xyz_corp['application_type']=='JOINT', 1, xyz_corp['application_type'])"
   ]
  },
  {
   "cell_type": "code",
   "execution_count": 64,
   "metadata": {},
   "outputs": [
    {
     "data": {
      "text/plain": [
       "0    855527\n",
       "1       442\n",
       "Name: application_type, dtype: int64"
      ]
     },
     "execution_count": 64,
     "metadata": {},
     "output_type": "execute_result"
    }
   ],
   "source": [
    "xyz_corp['application_type'].value_counts()"
   ]
  },
  {
   "cell_type": "code",
   "execution_count": 65,
   "metadata": {},
   "outputs": [],
   "source": [
    "xyz_corp['application_type']=xyz_corp['application_type'].astype(float)\n",
    "# Object to Float type"
   ]
  },
  {
   "cell_type": "code",
   "execution_count": 66,
   "metadata": {},
   "outputs": [
    {
     "name": "stdout",
     "output_type": "stream",
     "text": [
      "<class 'pandas.core.frame.DataFrame'>\n",
      "RangeIndex: 855969 entries, 0 to 855968\n",
      "Data columns (total 43 columns):\n",
      "Source Verified            855969 non-null uint8\n",
      "Verified                   855969 non-null uint8\n",
      "1                          855969 non-null uint8\n",
      "2                          855969 non-null uint8\n",
      "id                         855969 non-null int64\n",
      "member_id                  855969 non-null int64\n",
      "term                       855969 non-null float64\n",
      "int_rate                   855969 non-null float64\n",
      "grade                      855969 non-null float64\n",
      "sub_grade                  855969 non-null object\n",
      "emp_title                  806526 non-null object\n",
      "emp_length                 812908 non-null object\n",
      "annual_inc                 855969 non-null float64\n",
      "issue_d                    855969 non-null datetime64[ns]\n",
      "purpose                    855969 non-null object\n",
      "title                      855936 non-null object\n",
      "zip_code                   855969 non-null object\n",
      "addr_state                 855969 non-null object\n",
      "earliest_cr_line           855969 non-null object\n",
      "inq_last_6mths             855969 non-null float64\n",
      "open_acc                   855969 non-null float64\n",
      "revol_bal                  855969 non-null float64\n",
      "revol_util                 855523 non-null float64\n",
      "total_acc                  855969 non-null float64\n",
      "initial_list_status        855969 non-null float64\n",
      "out_prncp                  855969 non-null float64\n",
      "out_prncp_inv              855969 non-null float64\n",
      "total_pymnt                855969 non-null float64\n",
      "total_pymnt_inv            855969 non-null float64\n",
      "total_rec_prncp            855969 non-null float64\n",
      "total_rec_int              855969 non-null float64\n",
      "total_rec_late_fee         855969 non-null float64\n",
      "recoveries                 855969 non-null float64\n",
      "collection_recovery_fee    855969 non-null float64\n",
      "last_pymnt_d               847107 non-null object\n",
      "last_pymnt_amnt            855969 non-null float64\n",
      "next_pymnt_d               602998 non-null object\n",
      "last_credit_pull_d         855919 non-null object\n",
      "policy_code                855969 non-null float64\n",
      "application_type           855969 non-null float64\n",
      "tot_cur_bal                788656 non-null float64\n",
      "total_rev_hi_lim           788656 non-null float64\n",
      "default_ind                855969 non-null int64\n",
      "dtypes: datetime64[ns](1), float64(24), int64(3), object(11), uint8(4)\n",
      "memory usage: 258.0+ MB\n"
     ]
    }
   ],
   "source": [
    "xyz_corp.info()"
   ]
  },
  {
   "cell_type": "markdown",
   "metadata": {},
   "source": [
    "### Last Credit Full Details"
   ]
  },
  {
   "cell_type": "code",
   "execution_count": 67,
   "metadata": {},
   "outputs": [
    {
     "data": {
      "text/plain": [
       "Jan-2016    701687\n",
       "Dec-2015     19039\n",
       "Nov-2015     11388\n",
       "Oct-2015     10290\n",
       "Sep-2015      9985\n",
       "             ...  \n",
       "Jun-2008         1\n",
       "May-2008         1\n",
       "May-2007         1\n",
       "Jul-2008         1\n",
       "Jul-2007         1\n",
       "Name: last_credit_pull_d, Length: 102, dtype: int64"
      ]
     },
     "execution_count": 67,
     "metadata": {},
     "output_type": "execute_result"
    }
   ],
   "source": [
    "xyz_corp['last_credit_pull_d'].value_counts()"
   ]
  },
  {
   "cell_type": "code",
   "execution_count": 68,
   "metadata": {},
   "outputs": [
    {
     "data": {
      "text/plain": [
       "last_credit_pull_d  default_ind\n",
       "Apr-2009            0                16\n",
       "Apr-2010            0                46\n",
       "                    1                15\n",
       "Apr-2011            0               119\n",
       "                    1                23\n",
       "                                   ... \n",
       "Sep-2013            1               251\n",
       "Sep-2014            0              2312\n",
       "                    1               622\n",
       "Sep-2015            0              8910\n",
       "                    1              1075\n",
       "Name: default_ind, Length: 181, dtype: int64"
      ]
     },
     "execution_count": 68,
     "metadata": {},
     "output_type": "execute_result"
    }
   ],
   "source": [
    "xyz_corp.groupby('last_credit_pull_d')['default_ind'].value_counts()"
   ]
  },
  {
   "cell_type": "code",
   "execution_count": 69,
   "metadata": {},
   "outputs": [],
   "source": [
    "xyz_corp['last_credit_pull_d'] = pd.to_datetime(xyz_corp['last_credit_pull_d'])\n",
    "xyz_corp['Month'] = xyz_corp['last_credit_pull_d'].apply(lambda x: x.month)\n",
    "xyz_corp['Year'] = xyz_corp['last_credit_pull_d'].apply(lambda x: x.year)\n",
    "xyz_corp = xyz_corp.drop(['last_credit_pull_d'], axis = 1)"
   ]
  },
  {
   "cell_type": "code",
   "execution_count": 70,
   "metadata": {},
   "outputs": [],
   "source": [
    "# drop unnecessary variables\n",
    "\n",
    "xyz_corp.drop(['id','member_id','tot_cur_bal','total_rev_hi_lim','policy_code'], axis = 1,inplace=True)"
   ]
  },
  {
   "cell_type": "code",
   "execution_count": 71,
   "metadata": {},
   "outputs": [
    {
     "data": {
      "text/plain": [
       "Source Verified                 0\n",
       "Verified                        0\n",
       "1                               0\n",
       "2                               0\n",
       "term                            0\n",
       "int_rate                        0\n",
       "grade                           0\n",
       "sub_grade                       0\n",
       "emp_title                   49443\n",
       "emp_length                  43061\n",
       "annual_inc                      0\n",
       "issue_d                         0\n",
       "purpose                         0\n",
       "title                          33\n",
       "zip_code                        0\n",
       "addr_state                      0\n",
       "earliest_cr_line                0\n",
       "inq_last_6mths                  0\n",
       "open_acc                        0\n",
       "revol_bal                       0\n",
       "revol_util                    446\n",
       "total_acc                       0\n",
       "initial_list_status             0\n",
       "out_prncp                       0\n",
       "out_prncp_inv                   0\n",
       "total_pymnt                     0\n",
       "total_pymnt_inv                 0\n",
       "total_rec_prncp                 0\n",
       "total_rec_int                   0\n",
       "total_rec_late_fee              0\n",
       "recoveries                      0\n",
       "collection_recovery_fee         0\n",
       "last_pymnt_d                 8862\n",
       "last_pymnt_amnt                 0\n",
       "next_pymnt_d               252971\n",
       "application_type                0\n",
       "default_ind                     0\n",
       "Month                          50\n",
       "Year                           50\n",
       "dtype: int64"
      ]
     },
     "execution_count": 71,
     "metadata": {},
     "output_type": "execute_result"
    }
   ],
   "source": [
    "xyz_corp.isnull().sum()"
   ]
  },
  {
   "cell_type": "code",
   "execution_count": 72,
   "metadata": {},
   "outputs": [
    {
     "name": "stdout",
     "output_type": "stream",
     "text": [
      "<class 'pandas.core.frame.DataFrame'>\n",
      "RangeIndex: 855969 entries, 0 to 855968\n",
      "Data columns (total 39 columns):\n",
      "Source Verified            855969 non-null uint8\n",
      "Verified                   855969 non-null uint8\n",
      "1                          855969 non-null uint8\n",
      "2                          855969 non-null uint8\n",
      "term                       855969 non-null float64\n",
      "int_rate                   855969 non-null float64\n",
      "grade                      855969 non-null float64\n",
      "sub_grade                  855969 non-null object\n",
      "emp_title                  806526 non-null object\n",
      "emp_length                 812908 non-null object\n",
      "annual_inc                 855969 non-null float64\n",
      "issue_d                    855969 non-null datetime64[ns]\n",
      "purpose                    855969 non-null object\n",
      "title                      855936 non-null object\n",
      "zip_code                   855969 non-null object\n",
      "addr_state                 855969 non-null object\n",
      "earliest_cr_line           855969 non-null object\n",
      "inq_last_6mths             855969 non-null float64\n",
      "open_acc                   855969 non-null float64\n",
      "revol_bal                  855969 non-null float64\n",
      "revol_util                 855523 non-null float64\n",
      "total_acc                  855969 non-null float64\n",
      "initial_list_status        855969 non-null float64\n",
      "out_prncp                  855969 non-null float64\n",
      "out_prncp_inv              855969 non-null float64\n",
      "total_pymnt                855969 non-null float64\n",
      "total_pymnt_inv            855969 non-null float64\n",
      "total_rec_prncp            855969 non-null float64\n",
      "total_rec_int              855969 non-null float64\n",
      "total_rec_late_fee         855969 non-null float64\n",
      "recoveries                 855969 non-null float64\n",
      "collection_recovery_fee    855969 non-null float64\n",
      "last_pymnt_d               847107 non-null object\n",
      "last_pymnt_amnt            855969 non-null float64\n",
      "next_pymnt_d               602998 non-null object\n",
      "application_type           855969 non-null float64\n",
      "default_ind                855969 non-null int64\n",
      "Month                      855919 non-null float64\n",
      "Year                       855919 non-null float64\n",
      "dtypes: datetime64[ns](1), float64(23), int64(1), object(10), uint8(4)\n",
      "memory usage: 231.8+ MB\n"
     ]
    }
   ],
   "source": [
    "xyz_corp.info()"
   ]
  },
  {
   "cell_type": "code",
   "execution_count": 73,
   "metadata": {},
   "outputs": [],
   "source": [
    "# Drop object data type of varibles \n",
    "\n",
    "\n",
    "xyz_corp.drop(['sub_grade','emp_title',\n",
    "            'emp_length',\n",
    "            'purpose','title','application_type',\n",
    "            'zip_code','addr_state',\n",
    "            'earliest_cr_line','last_pymnt_d',\n",
    "            'next_pymnt_d'],axis = 1, inplace = True)"
   ]
  },
  {
   "cell_type": "code",
   "execution_count": 74,
   "metadata": {},
   "outputs": [
    {
     "data": {
      "text/plain": [
       "Source Verified              0\n",
       "Verified                     0\n",
       "1                            0\n",
       "2                            0\n",
       "term                         0\n",
       "int_rate                     0\n",
       "grade                        0\n",
       "annual_inc                   0\n",
       "issue_d                      0\n",
       "inq_last_6mths               0\n",
       "open_acc                     0\n",
       "revol_bal                    0\n",
       "revol_util                 446\n",
       "total_acc                    0\n",
       "initial_list_status          0\n",
       "out_prncp                    0\n",
       "out_prncp_inv                0\n",
       "total_pymnt                  0\n",
       "total_pymnt_inv              0\n",
       "total_rec_prncp              0\n",
       "total_rec_int                0\n",
       "total_rec_late_fee           0\n",
       "recoveries                   0\n",
       "collection_recovery_fee      0\n",
       "last_pymnt_amnt              0\n",
       "default_ind                  0\n",
       "Month                       50\n",
       "Year                        50\n",
       "dtype: int64"
      ]
     },
     "execution_count": 74,
     "metadata": {},
     "output_type": "execute_result"
    }
   ],
   "source": [
    "xyz_corp.isnull().sum()"
   ]
  },
  {
   "cell_type": "code",
   "execution_count": 75,
   "metadata": {},
   "outputs": [],
   "source": [
    "xyz_corp['revol_util'].fillna(xyz_corp['revol_util'].mean(),inplace=True)\n",
    "xyz_corp['Month'].fillna(xyz_corp.mode()['Month'][0],inplace=True)\n",
    "xyz_corp['Year'].fillna(xyz_corp.mode()['Year'][0],inplace=True)"
   ]
  },
  {
   "cell_type": "code",
   "execution_count": 76,
   "metadata": {},
   "outputs": [
    {
     "data": {
      "text/plain": [
       "Source Verified            0\n",
       "Verified                   0\n",
       "1                          0\n",
       "2                          0\n",
       "term                       0\n",
       "int_rate                   0\n",
       "grade                      0\n",
       "annual_inc                 0\n",
       "issue_d                    0\n",
       "inq_last_6mths             0\n",
       "open_acc                   0\n",
       "revol_bal                  0\n",
       "revol_util                 0\n",
       "total_acc                  0\n",
       "initial_list_status        0\n",
       "out_prncp                  0\n",
       "out_prncp_inv              0\n",
       "total_pymnt                0\n",
       "total_pymnt_inv            0\n",
       "total_rec_prncp            0\n",
       "total_rec_int              0\n",
       "total_rec_late_fee         0\n",
       "recoveries                 0\n",
       "collection_recovery_fee    0\n",
       "last_pymnt_amnt            0\n",
       "default_ind                0\n",
       "Month                      0\n",
       "Year                       0\n",
       "dtype: int64"
      ]
     },
     "execution_count": 76,
     "metadata": {},
     "output_type": "execute_result"
    }
   ],
   "source": [
    "xyz_corp.isnull().sum()"
   ]
  },
  {
   "cell_type": "code",
   "execution_count": 77,
   "metadata": {},
   "outputs": [
    {
     "data": {
      "text/plain": [
       "(855969, 28)"
      ]
     },
     "execution_count": 77,
     "metadata": {},
     "output_type": "execute_result"
    }
   ],
   "source": [
    "xyz_corp.shape"
   ]
  },
  {
   "cell_type": "code",
   "execution_count": 78,
   "metadata": {},
   "outputs": [
    {
     "data": {
      "text/plain": [
       "Index([        'Source Verified',                'Verified',\n",
       "                               1,                         2,\n",
       "                          'term',                'int_rate',\n",
       "                         'grade',              'annual_inc',\n",
       "                       'issue_d',          'inq_last_6mths',\n",
       "                      'open_acc',               'revol_bal',\n",
       "                    'revol_util',               'total_acc',\n",
       "           'initial_list_status',               'out_prncp',\n",
       "                 'out_prncp_inv',             'total_pymnt',\n",
       "               'total_pymnt_inv',         'total_rec_prncp',\n",
       "                 'total_rec_int',      'total_rec_late_fee',\n",
       "                    'recoveries', 'collection_recovery_fee',\n",
       "               'last_pymnt_amnt',             'default_ind',\n",
       "                         'Month',                    'Year'],\n",
       "      dtype='object')"
      ]
     },
     "execution_count": 78,
     "metadata": {},
     "output_type": "execute_result"
    }
   ],
   "source": [
    "xyz_corp.columns"
   ]
  },
  {
   "cell_type": "code",
   "execution_count": 79,
   "metadata": {},
   "outputs": [],
   "source": [
    "##Splitting our data into train and test on the basis of \n",
    "##train set is spplitted from june 2007 to may 2015\n",
    "##test set is splitted from june 2015 to december 2015\n",
    "\n",
    "\n",
    "train = xyz_corp[xyz_corp['issue_d'] < '2015-6-01']\n",
    "test = xyz_corp[xyz_corp['issue_d'] >= '2015-6-01']"
   ]
  },
  {
   "cell_type": "code",
   "execution_count": 80,
   "metadata": {},
   "outputs": [
    {
     "data": {
      "text/plain": [
       "(598978, 28)"
      ]
     },
     "execution_count": 80,
     "metadata": {},
     "output_type": "execute_result"
    }
   ],
   "source": [
    "train.shape"
   ]
  },
  {
   "cell_type": "code",
   "execution_count": 81,
   "metadata": {
    "scrolled": true
   },
   "outputs": [
    {
     "data": {
      "text/plain": [
       "(256991, 28)"
      ]
     },
     "execution_count": 81,
     "metadata": {},
     "output_type": "execute_result"
    }
   ],
   "source": [
    "test.shape"
   ]
  },
  {
   "cell_type": "code",
   "execution_count": 82,
   "metadata": {},
   "outputs": [],
   "source": [
    "xyz_corp.drop('issue_d', axis = 1, inplace = True)"
   ]
  },
  {
   "cell_type": "markdown",
   "metadata": {},
   "source": [
    "### Split the data"
   ]
  },
  {
   "cell_type": "code",
   "execution_count": 83,
   "metadata": {},
   "outputs": [],
   "source": [
    "X = xyz_corp.drop('default_ind', axis = 1)\n",
    "y = xyz_corp.default_ind"
   ]
  },
  {
   "cell_type": "code",
   "execution_count": 84,
   "metadata": {},
   "outputs": [],
   "source": [
    " \n",
    "X_train, X_test, y_train, y_test = train_test_split(X, y, train_size = 0.7, random_state = 42)"
   ]
  },
  {
   "cell_type": "markdown",
   "metadata": {},
   "source": [
    "## Logistic Regression"
   ]
  },
  {
   "cell_type": "code",
   "execution_count": 85,
   "metadata": {},
   "outputs": [
    {
     "name": "stderr",
     "output_type": "stream",
     "text": [
      "C:\\Users\\DELL\\Anaconda3\\lib\\site-packages\\sklearn\\linear_model\\logistic.py:432: FutureWarning: Default solver will be changed to 'lbfgs' in 0.22. Specify a solver to silence this warning.\n",
      "  FutureWarning)\n"
     ]
    },
    {
     "data": {
      "text/plain": [
       "LogisticRegression(C=1.0, class_weight=None, dual=False, fit_intercept=True,\n",
       "                   intercept_scaling=1, l1_ratio=None, max_iter=100,\n",
       "                   multi_class='warn', n_jobs=None, penalty='l2',\n",
       "                   random_state=None, solver='warn', tol=0.0001, verbose=0,\n",
       "                   warm_start=False)"
      ]
     },
     "execution_count": 85,
     "metadata": {},
     "output_type": "execute_result"
    }
   ],
   "source": [
    "\n",
    "\n",
    "lr = LogisticRegression()\n",
    "lr.fit(X_train, y_train)"
   ]
  },
  {
   "cell_type": "code",
   "execution_count": 86,
   "metadata": {},
   "outputs": [],
   "source": [
    "lr_pred = lr.predict(X_test)"
   ]
  },
  {
   "cell_type": "code",
   "execution_count": 87,
   "metadata": {},
   "outputs": [],
   "source": [
    "\n",
    "lr_pred_prob=lr.predict_proba(X_test)"
   ]
  },
  {
   "cell_type": "markdown",
   "metadata": {},
   "source": [
    "## Confusion Matrix"
   ]
  },
  {
   "cell_type": "code",
   "execution_count": 88,
   "metadata": {},
   "outputs": [
    {
     "name": "stdout",
     "output_type": "stream",
     "text": [
      "[[242680    193]\n",
      " [  3728  10190]]\n"
     ]
    }
   ],
   "source": [
    "cm = confusion_matrix(y_test, lr_pred)\n",
    "print(cm)"
   ]
  },
  {
   "cell_type": "code",
   "execution_count": 89,
   "metadata": {},
   "outputs": [
    {
     "name": "stdout",
     "output_type": "stream",
     "text": [
      "              precision    recall  f1-score   support\n",
      "\n",
      "           0       0.98      1.00      0.99    242873\n",
      "           1       0.98      0.73      0.84     13918\n",
      "\n",
      "    accuracy                           0.98    256791\n",
      "   macro avg       0.98      0.87      0.92    256791\n",
      "weighted avg       0.98      0.98      0.98    256791\n",
      "\n"
     ]
    }
   ],
   "source": [
    "print(classification_report(y_test, lr_pred))"
   ]
  },
  {
   "cell_type": "code",
   "execution_count": 90,
   "metadata": {},
   "outputs": [
    {
     "name": "stdout",
     "output_type": "stream",
     "text": [
      "accuracy_score is  : 0.9847307732747643\n",
      "precision score is : 0.9814119233362226\n",
      "recall is          : 0.7321454231929875\n",
      "F1_score is        : 0.8386486152833217\n"
     ]
    }
   ],
   "source": [
    "##Calculating important metrics Precision score,Recall score,F1_Score\n",
    "\n",
    "\n",
    "print(\"accuracy_score is  :\", accuracy_score(y_test, lr_pred))\n",
    "print(\"precision score is :\",precision_score(y_test,lr_pred))\n",
    "print(\"recall is          :\",recall_score(y_test,lr_pred))\n",
    "print(\"F1_score is        :\",f1_score(y_test,lr_pred))"
   ]
  },
  {
   "cell_type": "markdown",
   "metadata": {},
   "source": [
    "### Cross Validation Score"
   ]
  },
  {
   "cell_type": "code",
   "execution_count": 91,
   "metadata": {},
   "outputs": [
    {
     "name": "stderr",
     "output_type": "stream",
     "text": [
      "C:\\Users\\DELL\\Anaconda3\\lib\\site-packages\\sklearn\\linear_model\\logistic.py:432: FutureWarning: Default solver will be changed to 'lbfgs' in 0.22. Specify a solver to silence this warning.\n",
      "  FutureWarning)\n",
      "C:\\Users\\DELL\\Anaconda3\\lib\\site-packages\\sklearn\\linear_model\\logistic.py:432: FutureWarning: Default solver will be changed to 'lbfgs' in 0.22. Specify a solver to silence this warning.\n",
      "  FutureWarning)\n",
      "C:\\Users\\DELL\\Anaconda3\\lib\\site-packages\\sklearn\\linear_model\\logistic.py:432: FutureWarning: Default solver will be changed to 'lbfgs' in 0.22. Specify a solver to silence this warning.\n",
      "  FutureWarning)\n",
      "C:\\Users\\DELL\\Anaconda3\\lib\\site-packages\\sklearn\\linear_model\\logistic.py:432: FutureWarning: Default solver will be changed to 'lbfgs' in 0.22. Specify a solver to silence this warning.\n",
      "  FutureWarning)\n",
      "C:\\Users\\DELL\\Anaconda3\\lib\\site-packages\\sklearn\\linear_model\\logistic.py:432: FutureWarning: Default solver will be changed to 'lbfgs' in 0.22. Specify a solver to silence this warning.\n",
      "  FutureWarning)\n",
      "C:\\Users\\DELL\\Anaconda3\\lib\\site-packages\\sklearn\\linear_model\\logistic.py:432: FutureWarning: Default solver will be changed to 'lbfgs' in 0.22. Specify a solver to silence this warning.\n",
      "  FutureWarning)\n",
      "C:\\Users\\DELL\\Anaconda3\\lib\\site-packages\\sklearn\\linear_model\\logistic.py:432: FutureWarning: Default solver will be changed to 'lbfgs' in 0.22. Specify a solver to silence this warning.\n",
      "  FutureWarning)\n",
      "C:\\Users\\DELL\\Anaconda3\\lib\\site-packages\\sklearn\\linear_model\\logistic.py:432: FutureWarning: Default solver will be changed to 'lbfgs' in 0.22. Specify a solver to silence this warning.\n",
      "  FutureWarning)\n",
      "C:\\Users\\DELL\\Anaconda3\\lib\\site-packages\\sklearn\\linear_model\\logistic.py:432: FutureWarning: Default solver will be changed to 'lbfgs' in 0.22. Specify a solver to silence this warning.\n",
      "  FutureWarning)\n",
      "C:\\Users\\DELL\\Anaconda3\\lib\\site-packages\\sklearn\\linear_model\\logistic.py:432: FutureWarning: Default solver will be changed to 'lbfgs' in 0.22. Specify a solver to silence this warning.\n",
      "  FutureWarning)\n"
     ]
    },
    {
     "data": {
      "text/plain": [
       "array([0.98521312, 0.98481258, 0.98482927, 0.98372776, 0.98462899,\n",
       "       0.9850963 , 0.98379452, 0.98436196, 0.98474582, 0.98522932])"
      ]
     },
     "execution_count": 91,
     "metadata": {},
     "output_type": "execute_result"
    }
   ],
   "source": [
    "\n",
    "lr_cvs=cross_val_score(estimator=lr,X=X_train,y=y_train,cv=10)\n",
    "lr_cvs"
   ]
  },
  {
   "cell_type": "code",
   "execution_count": 92,
   "metadata": {},
   "outputs": [
    {
     "data": {
      "text/plain": [
       "0.9846439641821192"
      ]
     },
     "execution_count": 92,
     "metadata": {},
     "output_type": "execute_result"
    }
   ],
   "source": [
    "lr_cvs.mean()"
   ]
  },
  {
   "cell_type": "markdown",
   "metadata": {},
   "source": [
    "## ROC curve"
   ]
  },
  {
   "cell_type": "code",
   "execution_count": 93,
   "metadata": {},
   "outputs": [
    {
     "name": "stdout",
     "output_type": "stream",
     "text": [
      "0.865675384598433\n"
     ]
    }
   ],
   "source": [
    "#Receiver Operating Characteristics Area Under Curve(AUC) score \n",
    "\n",
    "print(roc_auc_score(y_test,lr_pred))"
   ]
  },
  {
   "cell_type": "code",
   "execution_count": 94,
   "metadata": {},
   "outputs": [],
   "source": [
    "\n",
    "fpr,tpr,thresholds=roc_curve(y_test,lr_pred)"
   ]
  },
  {
   "cell_type": "code",
   "execution_count": 95,
   "metadata": {},
   "outputs": [
    {
     "data": {
      "text/plain": [
       "<function matplotlib.pyplot.show(*args, **kw)>"
      ]
     },
     "execution_count": 95,
     "metadata": {},
     "output_type": "execute_result"
    },
    {
     "data": {
      "image/png": "[encoded data removed]",
      "text/plain": [
       "<Figure size 648x432 with 1 Axes>"
      ]
     },
     "metadata": {
      "needs_background": "light"
     },
     "output_type": "display_data"
    }
   ],
   "source": [
    "plt.figure(figsize=(9,6))\n",
    "plt.plot(fpr,tpr,color='blue',label='ROC')\n",
    "plt.plot([0,1],[0,1],color='green',linestyle='--')\n",
    "plt.title('ROC Curve of LogisticRegression')\n",
    "plt.xlabel('FalsePositiveRate')\n",
    "plt.ylabel('TruePositiveRate')\n",
    "plt.grid(True)\n",
    "plt.legend()\n",
    "plt.show"
   ]
  },
  {
   "cell_type": "markdown",
   "metadata": {},
   "source": [
    "## RondomForest Model"
   ]
  },
  {
   "cell_type": "code",
   "execution_count": 96,
   "metadata": {},
   "outputs": [
    {
     "name": "stderr",
     "output_type": "stream",
     "text": [
      "C:\\Users\\DELL\\Anaconda3\\lib\\site-packages\\sklearn\\ensemble\\forest.py:245: FutureWarning: The default value of n_estimators will change from 10 in version 0.20 to 100 in 0.22.\n",
      "  \"10 in version 0.20 to 100 in 0.22.\", FutureWarning)\n"
     ]
    },
    {
     "data": {
      "text/plain": [
       "RandomForestClassifier(bootstrap=True, class_weight=None, criterion='gini',\n",
       "                       max_depth=None, max_features='auto', max_leaf_nodes=None,\n",
       "                       min_impurity_decrease=0.0, min_impurity_split=None,\n",
       "                       min_samples_leaf=1, min_samples_split=2,\n",
       "                       min_weight_fraction_leaf=0.0, n_estimators=10,\n",
       "                       n_jobs=None, oob_score=False, random_state=None,\n",
       "                       verbose=0, warm_start=False)"
      ]
     },
     "execution_count": 96,
     "metadata": {},
     "output_type": "execute_result"
    }
   ],
   "source": [
    "\n",
    "rf = RandomForestClassifier()              #n_estimators=200, min_samples_split=30, criterion='entropy'\n",
    "rf.fit(X_train, y_train)"
   ]
  },
  {
   "cell_type": "code",
   "execution_count": 97,
   "metadata": {},
   "outputs": [],
   "source": [
    "rf_pred = rf.predict(X_test)"
   ]
  },
  {
   "cell_type": "markdown",
   "metadata": {},
   "source": [
    "## Confusion Matrix"
   ]
  },
  {
   "cell_type": "code",
   "execution_count": 98,
   "metadata": {},
   "outputs": [
    {
     "name": "stdout",
     "output_type": "stream",
     "text": [
      "[[242826     47]\n",
      " [   847  13071]]\n"
     ]
    }
   ],
   "source": [
    "rf_cm =confusion_matrix(y_test, rf_pred)\n",
    "print(rf_cm)"
   ]
  },
  {
   "cell_type": "code",
   "execution_count": 99,
   "metadata": {},
   "outputs": [
    {
     "name": "stdout",
     "output_type": "stream",
     "text": [
      "              precision    recall  f1-score   support\n",
      "\n",
      "           0       1.00      1.00      1.00    242873\n",
      "           1       1.00      0.94      0.97     13918\n",
      "\n",
      "    accuracy                           1.00    256791\n",
      "   macro avg       1.00      0.97      0.98    256791\n",
      "weighted avg       1.00      1.00      1.00    256791\n",
      "\n"
     ]
    }
   ],
   "source": [
    "rf_clf = classification_report(y_test, rf_pred)\n",
    "print(rf_clf)"
   ]
  },
  {
   "cell_type": "code",
   "execution_count": 100,
   "metadata": {},
   "outputs": [
    {
     "name": "stdout",
     "output_type": "stream",
     "text": [
      "accuracy_score is  : 0.9965185695760366\n",
      "precision score is : 0.9964171367586523\n",
      "recall is          : 0.9391435551084926\n",
      "F1_score is        : 0.9669329782512206\n"
     ]
    }
   ],
   "source": [
    "print(\"accuracy_score is  :\",  accuracy_score(y_test, rf_pred))\n",
    "print(\"precision score is :\",precision_score(y_test,rf_pred))\n",
    "print(\"recall is          :\",recall_score(y_test,rf_pred))\n",
    "print(\"F1_score is        :\",f1_score(y_test,rf_pred))"
   ]
  },
  {
   "cell_type": "markdown",
   "metadata": {},
   "source": [
    "## Cross Validation Score"
   ]
  },
  {
   "cell_type": "code",
   "execution_count": 101,
   "metadata": {},
   "outputs": [
    {
     "data": {
      "text/plain": [
       "array([0.9965119 , 0.99694583, 0.99637838, 0.9965119 , 0.99627825,\n",
       "       0.99676224, 0.99622818, 0.99669548, 0.99644514, 0.99639495])"
      ]
     },
     "execution_count": 101,
     "metadata": {},
     "output_type": "execute_result"
    }
   ],
   "source": [
    "\n",
    "rf_cvs=cross_val_score(estimator=rf, X=X_train, y=y_train, cv=10)\n",
    "rf_cvs"
   ]
  },
  {
   "cell_type": "code",
   "execution_count": 102,
   "metadata": {},
   "outputs": [
    {
     "data": {
      "text/plain": [
       "0.996515225457969"
      ]
     },
     "execution_count": 102,
     "metadata": {},
     "output_type": "execute_result"
    }
   ],
   "source": [
    "rf_cvs.mean()"
   ]
  },
  {
   "cell_type": "markdown",
   "metadata": {},
   "source": [
    "## ROC Curve"
   ]
  },
  {
   "cell_type": "code",
   "execution_count": 103,
   "metadata": {},
   "outputs": [
    {
     "name": "stdout",
     "output_type": "stream",
     "text": [
      "0.9694750191661174\n"
     ]
    }
   ],
   "source": [
    "#Receiver Operating Characteristics Area Under Curve(AUC) score \n",
    "\n",
    "print(roc_auc_score(y_test,rf_pred))"
   ]
  },
  {
   "cell_type": "code",
   "execution_count": 104,
   "metadata": {},
   "outputs": [],
   "source": [
    "\n",
    "fpr,tpr,thresholds=roc_curve(y_test,rf_pred)"
   ]
  },
  {
   "cell_type": "code",
   "execution_count": 105,
   "metadata": {},
   "outputs": [
    {
     "data": {
      "text/plain": [
       "<function matplotlib.pyplot.show(*args, **kw)>"
      ]
     },
     "execution_count": 105,
     "metadata": {},
     "output_type": "execute_result"
    },
    {
     "data": {
      "image/png": "[encoded data removed]",
      "text/plain": [
       "<Figure size 648x432 with 1 Axes>"
      ]
     },
     "metadata": {
      "needs_background": "light"
     },
     "output_type": "display_data"
    }
   ],
   "source": [
    "plt.figure(figsize=(9,6))\n",
    "plt.plot(fpr,tpr,color='blue',label='ROC')\n",
    "plt.plot([0,1],[0,1],color='green',linestyle='--')\n",
    "plt.title('ROC Curve of RandomForestClassifier')\n",
    "plt.xlabel('FalsePositiveRate')\n",
    "plt.ylabel('TruePositiveRate')\n",
    "plt.grid(True)\n",
    "plt.legend()\n",
    "plt.show"
   ]
  },
  {
   "cell_type": "code",
   "execution_count": null,
   "metadata": {},
   "outputs": [],
   "source": []
  }
 ],
 "metadata": {
  "kernelspec": {
   "display_name": "Python 3",
   "language": "python",
   "name": "python3"
  },
  "language_info": {
   "codemirror_mode": {
    "name": "ipython",
    "version": 3
   },
   "file_extension": ".py",
   "mimetype": "text/x-python",
   "name": "python",
   "nbconvert_exporter": "python",
   "pygments_lexer": "ipython3",
   "version": "3.7.4"
  }
 },
 "nbformat": 4,
 "nbformat_minor": 2
}
